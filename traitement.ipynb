{
 "cells": [
  {
   "cell_type": "code",
   "execution_count": 1,
   "id": "c439f114",
   "metadata": {},
   "outputs": [],
   "source": [
    "import pandas as pd\n",
    "import numpy as np\n",
    "import os"
   ]
  },
  {
   "cell_type": "code",
   "execution_count": 5,
   "id": "d11f8bc2",
   "metadata": {},
   "outputs": [],
   "source": [
    "import pandas as pd\n",
    "import pymysql\n",
    "\n",
    "\"\"\"conn = pymysql.connect(\n",
    "    host=\"127.0.0.1\", port=3306, user=\"root\",\n",
    "    password=\"MonSuperMotDePasse!\", database=\"HACKATON_BRONZE\"\n",
    ")\"\"\"\n",
    " \n",
    "df = pd.read_csv('./BRONZE/futuristic_city_traffic.csv')\n",
    " "
   ]
  },
  {
   "cell_type": "code",
   "execution_count": 14,
   "id": "2819fc93",
   "metadata": {},
   "outputs": [],
   "source": [
    "df['Energy Consumption'] = df['Energy Consumption'].astype(str).str.replace('.', ',', regex=False)\n",
    "df['Traffic Density'] = df['Traffic Density'].astype(str).str.replace('.', ',', regex=False)\n",
    "df['Speed'] = df['Speed'].astype(str).str.replace('.', ',', regex=False)"
   ]
  },
  {
   "cell_type": "code",
   "execution_count": 18,
   "id": "3e097712",
   "metadata": {},
   "outputs": [],
   "source": [
    "city_encoded = pd.get_dummies(df['City'], prefix='Is')\n",
    "df = pd.concat([df.drop(columns=['City']), city_encoded], axis=1)\n"
   ]
  },
  {
   "cell_type": "code",
   "execution_count": 23,
   "id": "d8129f3b",
   "metadata": {},
   "outputs": [],
   "source": [
    "day_mapping = {\n",
    "    'Monday': 1,\n",
    "    'Tuesday': 2,\n",
    "    'Wednesday': 3,\n",
    "    'Thursday': 4,\n",
    "    'Friday': 5,\n",
    "    'Saturday': 6,\n",
    "    'Sunday': 7\n",
    "}\n",
    "df['Day Of Week'] = df['Day Of Week'].map(day_mapping)\n",
    "\n"
   ]
  },
  {
   "cell_type": "code",
   "execution_count": 26,
   "id": "aba3fbe9",
   "metadata": {},
   "outputs": [],
   "source": [
    "city_encoded = pd.get_dummies(df['Economic Condition'], prefix='Is')\n",
    "df = pd.concat([df.drop(columns=['Economic Condition']), city_encoded], axis=1)"
   ]
  },
  {
   "cell_type": "code",
   "execution_count": 30,
   "id": "7e41583e",
   "metadata": {},
   "outputs": [],
   "source": [
    "weather_encoded = pd.get_dummies(df['Weather'], prefix='Is')\n",
    "df = pd.concat([df.drop(columns=['Weather']), weather_encoded], axis=1)\n"
   ]
  },
  {
   "cell_type": "code",
   "execution_count": 32,
   "id": "aa25a0cb",
   "metadata": {},
   "outputs": [],
   "source": [
    "vehicle_encoded = pd.get_dummies(df['Vehicle Type'], prefix='Is')\n",
    "df = pd.concat([df.drop(columns=['Vehicle Type']), vehicle_encoded], axis=1)\n"
   ]
  },
  {
   "cell_type": "code",
   "execution_count": 35,
   "id": "e88ad6a1",
   "metadata": {},
   "outputs": [],
   "source": [
    "cols_to_convert = ['Speed', 'Energy Consumption', 'Traffic Density']\n",
    "for col in cols_to_convert:\n",
    "    df[col] = df[col].str.replace(',', '').astype(float)\n"
   ]
  },
  {
   "cell_type": "code",
   "execution_count": 36,
   "id": "64b55072",
   "metadata": {},
   "outputs": [
    {
     "name": "stdout",
     "output_type": "stream",
     "text": [
      "[2.942680e+05 1.188000e+03 1.003904e+06 7.680000e+02 4.521760e+05\n",
      " 3.051790e+05 4.392220e+05 2.042360e+05 6.997350e+05 3.794310e+05\n",
      " 2.958090e+05 4.047780e+05 8.788010e+05 6.004470e+05 7.026980e+05\n",
      " 6.688560e+05 1.267644e+06 8.704480e+05 6.232520e+05 6.724910e+05]\n",
      "[ 147134. 1435682.   91264.  460753.  401934.  375562.   39042.  181543.\n",
      "  418502.  189715.  141535.   18399.   79891.   57459.  351349.  668856.\n",
      " 1071712. 1186975.  311626.   56607.]\n",
      "[5241. 3208.  415. 1811. 4544.  843.  293. 1393. 1505. 2485.  626. 5179.\n",
      " 1248.  342. 2389. 2521.  784. 1352. 2185. 1994.]\n"
     ]
    }
   ],
   "source": [
    "for col in cols_to_convert:\n",
    "    print(df[col].unique()[:20])\n"
   ]
  },
  {
   "cell_type": "code",
   "execution_count": 37,
   "id": "21fb9be9",
   "metadata": {},
   "outputs": [],
   "source": [
    "bool_cols = df.select_dtypes('bool').columns\n",
    "df[bool_cols] = df[bool_cols].astype(int)\n"
   ]
  },
  {
   "cell_type": "code",
   "execution_count": 38,
   "id": "9372b671",
   "metadata": {},
   "outputs": [],
   "source": [
    "from sklearn.preprocessing import StandardScaler\n",
    "scaler = StandardScaler()\n",
    "df[['Speed', 'Energy Consumption']] = scaler.fit_transform(df[['Speed', 'Energy Consumption']])\n"
   ]
  },
  {
   "cell_type": "code",
   "execution_count": null,
   "id": "08d9b2b3",
   "metadata": {},
   "outputs": [],
   "source": [
    "df.to_csv('./SILVER/DF_ML.csv', index=False)"
   ]
  }
 ],
 "metadata": {
  "kernelspec": {
   "display_name": "base",
   "language": "python",
   "name": "python3"
  },
  "language_info": {
   "codemirror_mode": {
    "name": "ipython",
    "version": 3
   },
   "file_extension": ".py",
   "mimetype": "text/x-python",
   "name": "python",
   "nbconvert_exporter": "python",
   "pygments_lexer": "ipython3",
   "version": "3.12.2"
  }
 },
 "nbformat": 4,
 "nbformat_minor": 5
}
