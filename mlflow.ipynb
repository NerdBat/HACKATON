{
 "cells": [
  {
   "cell_type": "code",
   "execution_count": 1,
   "id": "0e1c4ce6",
   "metadata": {},
   "outputs": [],
   "source": [
    "import pandas as pd\n",
    "import numpy as np\n",
    "from sklearn.model_selection import train_test_split\n",
    "from sklearn.metrics import mean_squared_error, r2_score\n",
    "import mlflow\n",
    "import mlflow.sklearn\n",
    "from sklearn.ensemble import RandomForestClassifier"
   ]
  },
  {
   "cell_type": "code",
   "execution_count": 2,
   "id": "e4ed2539",
   "metadata": {},
   "outputs": [],
   "source": [
    "df = pd.read_csv('./SILVER/futuristic_city_traffic.csv')"
   ]
  },
  {
   "cell_type": "code",
   "execution_count": 3,
   "id": "bf73fc75",
   "metadata": {},
   "outputs": [],
   "source": [
    "quartiles = df['Traffic Density'].quantile([0.25, 0.5, 0.75])\n",
    "q25, q50, q75 = quartiles[0.25], quartiles[0.5], quartiles[0.75]\n",
    "\n",
    "def categorize_density(density):\n",
    "    if density <= q25:\n",
    "        return \"Low\"\n",
    "    elif density <= q50:\n",
    "        return \"Medium\"\n",
    "    elif density <= q75:\n",
    "        return \"High\"\n",
    "    else:\n",
    "        return \"Very High\"\n",
    "\n",
    "df['Density_Category'] = df['Traffic Density'].apply(categorize_density)\n"
   ]
  },
  {
   "cell_type": "code",
   "execution_count": 4,
   "id": "a4ff326c",
   "metadata": {},
   "outputs": [
    {
     "data": {
      "text/plain": [
       "Density_Category\n",
       "Low          302818\n",
       "Very High    302354\n",
       "High         302217\n",
       "Medium       302178\n",
       "Name: count, dtype: int64"
      ]
     },
     "execution_count": 4,
     "metadata": {},
     "output_type": "execute_result"
    }
   ],
   "source": [
    "df['Density_Category'].value_counts()"
   ]
  },
  {
   "cell_type": "code",
   "execution_count": 5,
   "id": "69849472",
   "metadata": {},
   "outputs": [
    {
     "data": {
      "text/plain": [
       "<Experiment: artifact_location='file:///Users/antoinetheissen/Downloads/HACKATON/mlruns/699471715612415917', creation_time=1760446546090, experiment_id='699471715612415917', last_update_time=1760446546090, lifecycle_stage='active', name='Traffic_Prediction_X_Hours', tags={}>"
      ]
     },
     "execution_count": 5,
     "metadata": {},
     "output_type": "execute_result"
    }
   ],
   "source": [
    "# === PARAMS ===\n",
    "X_hours = 1\n",
    "city_cols = ['Is_AquaCity','Is_Ecoopolis','Is_MetropolisX','Is_Neuroburg','Is_SolarisVille','Is_TechHaven']\n",
    "\n",
    "# Trier et créer la cible future\n",
    "df_sorted = df.sort_values(city_cols + ['Day Of Week','Hour Of Day']).reset_index(drop=True)\n",
    "df_sorted['Traffic_Density_Future'] = df_sorted.groupby(city_cols)['Traffic Density'].shift(-X_hours)\n",
    "df_sorted = df_sorted.dropna(subset=['Traffic_Density_Future'])\n",
    "\n",
    "# Créer une catégorie de densité si ce n'est pas déjà fait\n",
    "df_sorted['Density_Category'] = pd.qcut(df_sorted['Traffic_Density_Future'], q=[0,0.25,0.5,0.75,1], labels=['Low','Medium','High','Very High'])\n",
    "\n",
    "# Features pour l'entraînement (on peut inclure tout pour l'entraînement)\n",
    "feature_cols = [c for c in df_sorted.columns if c not in ['Traffic_Density_Future', 'Density_Category', 'Traffic Density']]\n",
    "X = df_sorted[feature_cols]\n",
    "y = df_sorted['Density_Category']\n",
    "\n",
    "# Split train/test\n",
    "X_train, X_test, y_train, y_test = train_test_split(X, y, test_size=0.2, random_state=42)\n",
    "\n",
    "# Modèle classifier\n",
    "model = RandomForestClassifier(n_estimators=250, max_depth=20, random_state=42)\n",
    "\n",
    "mlflow.set_experiment(\"Traffic_Prediction_X_Hours\")"
   ]
  },
  {
   "cell_type": "code",
   "execution_count": null,
   "id": "aa93801e",
   "metadata": {},
   "outputs": [],
   "source": [
    "with mlflow.start_run():\n",
    "    model.fit(X_train, y_train)\n",
    "    y_pred = model.predict(X_test)\n",
    "\n",
    "    # Metrics simples\n",
    "    accuracy = (y_pred == y_test).mean()\n",
    "\n",
    "    mlflow.log_param(\"model_type\", \"RandomForestClassifier\")\n",
    "    mlflow.log_param(\"n_estimators\", 200)\n",
    "    mlflow.log_param(\"max_depth\", 20)\n",
    "    mlflow.log_param(\"X_hours\", X_hours)\n",
    "\n",
    "    mlflow.log_metric(\"accuracy\", accuracy)\n",
    "    mlflow.sklearn.log_model(model, artifact_path=\"traffic_model\")\n",
    "\n",
    "    print(f\"✅ Modèle loggé dans MLflow\")\n",
    "    print(f\"Accuracy: {accuracy:.4f}\")"
   ]
  },
  {
   "cell_type": "code",
   "execution_count": null,
   "id": "dd4382c6",
   "metadata": {},
   "outputs": [],
   "source": [
    "def prepare_input(city_name, hour, day_of_week):\n",
    "    input_data = {c:0 for c in city_cols}  # Toutes les villes = 0\n",
    "    input_data[f'Is_{city_name}'] = 1      # Ville choisie\n",
    "\n",
    "    # Colonnes pratiques\n",
    "    input_data['Hour Of Day'] = hour\n",
    "    input_data['Day Of Week'] = day_of_week\n",
    "\n",
    "    # Colonnes restantes à valeur fixe ou moyenne\n",
    "    input_data['Speed'] = 40  # valeur arbitraire\n",
    "    input_data['Is Peak Hour'] = 1 if hour in [7,8,9,17,18,19] else 0\n",
    "    input_data['Random Event Occurred'] = 0\n",
    "    input_data['Energy Consumption'] = 200\n",
    "    input_data['Is_Clear'] = 1  # exemple météo par défaut\n",
    "    input_data['Is_Autonomous Vehicle'] = 0\n",
    "    # ... ajouter les autres colonnes comme ça\n",
    "\n",
    "    return pd.DataFrame([input_data])\n",
    "\n",
    "# Exemple\n",
    "df_input = prepare_input(\"AquaCity\", 8, 2)\n",
    "predicted_category = model.predict(df_input)[0]\n",
    "print(predicted_category)\n"
   ]
  },
  {
   "cell_type": "code",
   "execution_count": null,
   "id": "e7cfe426",
   "metadata": {},
   "outputs": [],
   "source": [
    "import pandas as pd\n",
    "\n",
    "# Exemple : seuils de densité (à ajuster selon ton dataset)\n",
    "SEUIL_FLUIDE = 1000   # en dessous = trafic fluide\n",
    "SEUIL_CONGESTION = 2000  # au-dessus = trafic congestionné\n",
    "\n",
    "# Fonction pour générer la recommandation\n",
    "def traffic_recommendation(predicted_density):\n",
    "    if predicted_density < SEUIL_FLUIDE:\n",
    "        return \"Trafic fluide — utiliser la voiture\"\n",
    "    elif predicted_density > SEUIL_CONGESTION:\n",
    "        return \"Trafic dense — privilégier les transports en commun\"\n",
    "    else:\n",
    "        return \"Trafic modéré — prudence recommandée\"\n",
    "\n",
    "# Exemple : appliquer sur une ligne du test set\n",
    "sample = X_test.iloc[0:1]\n",
    "predicted_density = model.predict(sample)[0]\n",
    "\n",
    "reco = traffic_recommendation(predicted_density)\n",
    "\n",
    "print(f\"Predicted Traffic Density in 1h: {predicted_density:.2f}\")\n",
    "print(f\"Recommendation: {reco}\")\n"
   ]
  },
  {
   "cell_type": "code",
   "execution_count": null,
   "id": "06577130",
   "metadata": {},
   "outputs": [],
   "source": [
    "\n",
    "sample = X_test.iloc[0:1]\n",
    "predicted_density = model.predict(sample)[0]\n",
    "print(f\"Predicted Traffic Density in {X_hours}h: {predicted_density:.4f}\")"
   ]
  },
  {
   "cell_type": "code",
   "execution_count": null,
   "id": "9d0dbb32",
   "metadata": {},
   "outputs": [],
   "source": [
    "import pandas as pd\n",
    "\n",
    "# Exemple : seuils de densité (à ajuster selon ton dataset)\n",
    "SEUIL_FLUIDE = 1000   # en dessous = trafic fluide\n",
    "SEUIL_CONGESTION = 2000  # au-dessus = trafic congestionné\n",
    "\n",
    "# Fonction pour générer la recommandation\n",
    "def traffic_recommendation(predicted_density):\n",
    "    if predicted_density < SEUIL_FLUIDE:\n",
    "        return \"Trafic fluide — utiliser la voiture\"\n",
    "    elif predicted_density > SEUIL_CONGESTION:\n",
    "        return \"Trafic dense — privilégier les transports en commun\"\n",
    "    else:\n",
    "        return \"Trafic modéré — prudence recommandée\"\n",
    "\n",
    "# Exemple : appliquer sur une ligne du test set\n",
    "sample = X_test.iloc[0:1]\n",
    "predicted_density = model.predict(sample)[0]\n",
    "\n",
    "reco = traffic_recommendation(predicted_density)\n",
    "\n",
    "print(f\"Predicted Traffic Density in 1h: {predicted_density:.2f}\")\n",
    "print(f\"Recommendation: {reco}\")\n"
   ]
  },
  {
   "cell_type": "code",
   "execution_count": null,
   "id": "9abd6039",
   "metadata": {},
   "outputs": [],
   "source": [
    "MODEL_PATH = \"./mlruns/699471715612415917/models/m-a9849227b3ff4f78a468eb7c1629ddc2/artifacts\"\n"
   ]
  },
  {
   "cell_type": "code",
   "execution_count": null,
   "id": "4d635363",
   "metadata": {},
   "outputs": [],
   "source": [
    "feature_names = X_train.columns.tolist()\n"
   ]
  },
  {
   "cell_type": "code",
   "execution_count": null,
   "id": "c4da9c98",
   "metadata": {},
   "outputs": [],
   "source": [
    "feature_names"
   ]
  },
  {
   "cell_type": "code",
   "execution_count": null,
   "id": "5f42c707",
   "metadata": {},
   "outputs": [],
   "source": [
    "df.info()"
   ]
  },
  {
   "cell_type": "markdown",
   "id": "d340f389",
   "metadata": {},
   "source": [
    "# AUTRE Méthode\n"
   ]
  },
  {
   "cell_type": "code",
   "execution_count": null,
   "id": "abb5d2bf",
   "metadata": {},
   "outputs": [],
   "source": [
    "import pandas as pd\n",
    "import mlflow\n",
    "import mlflow.sklearn\n",
    "from sklearn.model_selection import train_test_split\n",
    "from sklearn.ensemble import RandomForestClassifier\n",
    "from sklearn.preprocessing import LabelEncoder\n",
    "from sklearn.metrics import accuracy_score, classification_report\n",
    "\n",
    "# === CONFIGURATION ===\n",
    "X_HOURS = 1\n",
    "city_cols = ['Is_AquaCity', 'Is_Ecoopolis', 'Is_MetropolisX', 'Is_Neuroburg', 'Is_SolarisVille', 'Is_TechHaven']\n",
    "\n",
    "# === 1. PRÉPARATION DU DATASET ===\n",
    "df_sorted = df.sort_values(city_cols + ['Day Of Week','Hour Of Day']).reset_index(drop=True)\n",
    "\n",
    "# Décaler la densité future\n",
    "df_sorted['Traffic_Density_Future'] = df_sorted.groupby(city_cols)['Traffic Density'].shift(-X_HOURS)\n",
    "df_sorted = df_sorted.dropna(subset=['Traffic_Density_Future'])\n",
    "\n",
    "# === 2. CATÉGORISATION PAR QUANTILES ===\n",
    "df_sorted['Density_Category'] = pd.qcut(df_sorted['Traffic_Density_Future'], q=5, labels=['Very Low','Low','Medium','High','Very High'])\n",
    "\n",
    "# === 3. ENCODAGE DE LA SORTIE ===\n",
    "label_encoder = LabelEncoder()\n",
    "df_sorted['Density_Label'] = label_encoder.fit_transform(df_sorted['Density_Category'])\n",
    "\n",
    "# === 4. FEATURES (uniquement heure + jour + ville) ===\n",
    "feature_cols = ['Day Of Week', 'Hour Of Day'] + city_cols\n",
    "X = df_sorted[feature_cols]\n",
    "y = df_sorted['Density_Label']\n",
    "\n",
    "# === 5. SPLIT TRAIN/TEST ===\n",
    "X_train, X_test, y_train, y_test = train_test_split(X, y, test_size=0.2, random_state=42)\n",
    "\n",
    "# === 6. ENTRAÎNEMENT ===\n",
    "model = RandomForestClassifier(n_estimators=300, max_depth=25, random_state=42)\n"
   ]
  },
  {
   "cell_type": "code",
   "execution_count": null,
   "id": "448c5cf8",
   "metadata": {},
   "outputs": [],
   "source": [
    "\n",
    "mlflow.set_experiment(\"Traffic_Density_Categorized\")\n",
    "with mlflow.start_run():\n",
    "    model.fit(X_train, y_train)\n",
    "    y_pred = model.predict(X_test)\n",
    "    \n",
    "    acc = accuracy_score(y_test, y_pred)\n",
    "    report = classification_report(y_test, y_pred, target_names=label_encoder.classes_)\n",
    "    \n",
    "    mlflow.log_param(\"model_type\", \"RandomForestClassifier\")\n",
    "    mlflow.log_param(\"n_estimators\", 300)\n",
    "    mlflow.log_param(\"max_depth\", 25)\n",
    "    mlflow.log_metric(\"accuracy\", acc)\n",
    "\n",
    "    mlflow.sklearn.log_model(model, artifact_path=\"traffic_model\")\n",
    "\n",
    "    print(\"✅ Modèle loggé dans MLflow\")\n",
    "    print(f\"Accuracy: {acc:.4f}\")\n",
    "    print(report)\n",
    "\n",
    "# Sauvegarder le label encoder pour le réutiliser dans l’API\n",
    "import joblib\n",
    "joblib.dump(label_encoder, \"label_encoder.pkl\")\n"
   ]
  },
  {
   "cell_type": "code",
   "execution_count": null,
   "id": "f0ffd89b",
   "metadata": {},
   "outputs": [],
   "source": []
  }
 ],
 "metadata": {
  "kernelspec": {
   "display_name": "base",
   "language": "python",
   "name": "python3"
  },
  "language_info": {
   "codemirror_mode": {
    "name": "ipython",
    "version": 3
   },
   "file_extension": ".py",
   "mimetype": "text/x-python",
   "name": "python",
   "nbconvert_exporter": "python",
   "pygments_lexer": "ipython3",
   "version": "3.12.2"
  }
 },
 "nbformat": 4,
 "nbformat_minor": 5
}
